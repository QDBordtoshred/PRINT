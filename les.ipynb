{
 "cells": [
  {
   "cell_type": "markdown",
   "metadata": {},
   "source": [
    "# Usage of Collections in SQL\n",
    "In SQL, collections are powerful data types that allow us to store multiple values. Let's delve into declaring different types of collections."
   ]
  },
  {
   "cell_type": "code",
   "execution_count": null,
   "metadata": {
    "vscode": {
     "languageId": "sql"
    }
   },
   "outputs": [],
   "source": [
    "-- Syntax for declaring an array\n",
    "DECLARE TYPE Array_Type IS VARRAY(5) OF VARCHAR2(50);\n",
    "\n",
    "-- Syntax for declaring a nested table\n",
    "DECLARE TYPE Nested_Table_Type IS TABLE OF NUMBER;\n",
    "\n",
    "-- Syntax for declaring an associative array\n",
    "DECLARE TYPE Assoc_Array_Type IS TABLE OF VARCHAR2(50) INDEX BY PLS_INTEGER;\n"
   ]
  },
  {
   "cell_type": "markdown",
   "metadata": {},
   "source": [
    "### Explanation: \n",
    "In SQL, we can declare different types of collections to store multiple values. An array is defined with a fixed size of 5, specifically designed to accommodate VARCHAR2 values. Simultaneously, a nested table is declared to store numeric values, offering flexibility in handling numerical data. Additionally, an associative array is declared with an index of PLS_INTEGER, providing a dynamic structure to hold VARCHAR2 values based on the specified index. These declarations showcase the versatility of collections in SQL, allowing for efficient management of various data types."
   ]
  },
  {
   "cell_type": "markdown",
   "metadata": {},
   "source": [
    "***"
   ]
  },
  {
   "cell_type": "markdown",
   "metadata": {},
   "source": [
    "## Initialization of Collections\n",
    "Now, let's initialize these collections using different methods."
   ]
  },
  {
   "cell_type": "code",
   "execution_count": null,
   "metadata": {
    "vscode": {
     "languageId": "sql"
    }
   },
   "outputs": [],
   "source": [
    "-- Initializing an array\n",
    "DECLARE\n",
    "  my_array Array_Type := Array_Type('Value1', 'Value2', 'Value3');\n",
    "\n",
    "-- Initializing a nested table\n",
    "DECLARE\n",
    "  my_table Nested_Table_Type := Nested_Table_Type(1, 2, 3);\n",
    "\n",
    "-- Initializing an associative array\n",
    "DECLARE\n",
    "  my_assoc_array Assoc_Array_Type;\n",
    "BEGIN\n",
    "  my_assoc_array(1) := 'Item1';\n",
    "  my_assoc_array(2) := 'Item2';\n",
    "END;"
   ]
  },
  {
   "cell_type": "markdown",
   "metadata": {},
   "source": [
    "### Explanation: \n",
    "\n",
    "In the initialization phase, the array is populated with predefined values using its constructor, ensuring specific elements are set from the start. Meanwhile, the nested table is initialized with numeric values, establishing its initial content based on numerical data. In contrast, the associative array takes a more dynamic approach, as values are individually assigned within a BEGIN-END block, allowing for flexible and tailored initialization based on specific requirements or conditions."
   ]
  },
  {
   "cell_type": "markdown",
   "metadata": {},
   "source": [
    "***"
   ]
  },
  {
   "cell_type": "markdown",
   "metadata": {},
   "source": [
    "## Adding, Removing, and Modifying Elements\n",
    "Now, let's explore how to perform fundamental operations on collections."
   ]
  },
  {
   "cell_type": "code",
   "execution_count": null,
   "metadata": {
    "vscode": {
     "languageId": "sql"
    }
   },
   "outputs": [],
   "source": [
    "-- Adding elements to an array\n",
    "my_array.EXTEND;\n",
    "my_array(4) := 'Value4';\n",
    "\n",
    "-- Removing elements from a nested table\n",
    "my_table.DELETE(2);\n",
    "\n",
    "-- Modifying an element in an associative array\n",
    "my_assoc_array(1) := 'UpdatedItem';"
   ]
  },
  {
   "cell_type": "markdown",
   "metadata": {},
   "source": [
    "### Explanation:\n",
    "\n",
    "In this sequence of operations, the array undergoes extension to accommodate a new element, subsequently being assigned a specific value. Simultaneously, within the nested table, an element is removed. Additionally, in the associative array, a specific element undergoes modification, ensuring the dynamic adaptability of the collection to evolving data requirements."
   ]
  },
  {
   "cell_type": "markdown",
   "metadata": {},
   "source": [
    "***"
   ]
  },
  {
   "cell_type": "markdown",
   "metadata": {},
   "source": [
    "## Common Operations\n",
    "Explore common operations like appending, deleting, and checking for element existence."
   ]
  },
  {
   "cell_type": "code",
   "execution_count": null,
   "metadata": {
    "vscode": {
     "languageId": "sql"
    }
   },
   "outputs": [],
   "source": [
    "-- Appending elements to an array\n",
    "my_array := my_array MULTISET UNION Array_Type('Value5', 'Value6');\n",
    "\n",
    "-- Deleting all elements from a nested table\n",
    "my_table := Nested_Table_Type();\n",
    "\n",
    "-- Checking if an element exists in an associative array\n",
    "IF my_assoc_array.EXISTS(1) THEN\n",
    "  -- Do something\n",
    "END IF;"
   ]
  },
  {
   "cell_type": "markdown",
   "metadata": {},
   "source": [
    "### Explanation:\n",
    "\n",
    "In the realm of SQL collections, various operations enhance their functionality. To enrich an array, additional elements can be seamlessly appended, ensuring dynamic and evolving data storage. For a nested table, a clean slate is achieved by effortlessly deleting all existing elements, offering a quick and efficient reset. The power of the EXISTS function comes into play with associative arrays, providing a means to verify the existence of a specific index, adding a layer of control and precision to the data management process."
   ]
  },
  {
   "cell_type": "markdown",
   "metadata": {},
   "source": [
    "***"
   ]
  },
  {
   "cell_type": "markdown",
   "metadata": {},
   "source": [
    "## Incorporating Collections in SQL Queries\n",
    "Now, let's leverage collections in SQL queries for more flexible and dynamic operations."
   ]
  },
  {
   "cell_type": "code",
   "execution_count": null,
   "metadata": {
    "vscode": {
     "languageId": "sql"
    }
   },
   "outputs": [],
   "source": [
    "-- Using an array in a SELECT statement\n",
    "SELECT * FROM employees WHERE employee_id IN (SELECT * FROM TABLE(my_array));\n",
    "\n",
    "-- Using a nested table in a JOIN operation\n",
    "SELECT e.employee_id, e.employee_name, d.department_name\n",
    "FROM employees e\n",
    "JOIN TABLE(my_table) t ON e.department_id = t.COLUMN_VALUE;\n",
    "\n",
    "-- Using an associative array in a WHERE clause\n",
    "FOR i IN 1..my_assoc_array.LIMIT\n",
    "LOOP"
   ]
  },
  {
   "cell_type": "markdown",
   "metadata": {},
   "source": [
    "### Explanation:\n",
    "\n",
    "In SQL queries, the array serves as a filtering mechanism within the SELECT statement, allowing for precise record retrieval. In JOIN operations, a nested table is harnessed to establish correlations between datasets, facilitating a more comprehensive analysis. Additionally, the versatility of associative arrays shines as they are seamlessly integrated into loops, enabling efficient iteration through their elements. This concise yet powerful utilization of collections enhances the flexibility and dynamism of SQL queries, showcasing their utility in various scenarios."
   ]
  },
  {
   "cell_type": "markdown",
   "metadata": {},
   "source": [
    "***\n",
    "***"
   ]
  },
  {
   "cell_type": "markdown",
   "metadata": {},
   "source": [
    "# Hacks:\n",
    "- Try declaring your own collection and initializing it with values of your choice.\n",
    "- Perform basic operations like adding, removing, and modifying elements.\n",
    "- Create a SQL query using your collection to filter or join data."
   ]
  }
 ],
 "metadata": {
  "language_info": {
   "name": "python"
  }
 },
 "nbformat": 4,
 "nbformat_minor": 2
}
